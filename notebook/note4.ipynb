{
 "cells": [
  {
   "cell_type": "markdown",
   "id": "62a5d924-8ffc-44fe-abcc-f55000b98747",
   "metadata": {},
   "source": [
    "## 辞書内包表記"
   ]
  },
  {
   "cell_type": "code",
   "execution_count": 1,
   "id": "55d51a68-8171-49bd-9f07-1b25a19c2e0b",
   "metadata": {},
   "outputs": [],
   "source": [
    "w = ['mon', 'tue', 'wed']\n",
    "r = ['coffee', 'milk', 'water']"
   ]
  },
  {
   "cell_type": "code",
   "execution_count": 2,
   "id": "e3a1a276-5c1c-4552-a0d6-7bd08d2307d4",
   "metadata": {},
   "outputs": [],
   "source": [
    "d = {}\n",
    "for x, y in zip(w, r):\n",
    "  d[x] = y"
   ]
  },
  {
   "cell_type": "code",
   "execution_count": 3,
   "id": "989e2fb3-81b1-485c-af74-ea43c55bb564",
   "metadata": {},
   "outputs": [
    {
     "name": "stdout",
     "output_type": "stream",
     "text": [
      "{'mon': 'coffee', 'tue': 'milk', 'wed': 'water'}\n"
     ]
    }
   ],
   "source": [
    "print(d)"
   ]
  },
  {
   "cell_type": "code",
   "execution_count": 6,
   "id": "5878f056-8679-4542-85e4-96a77f237192",
   "metadata": {},
   "outputs": [],
   "source": [
    "# 辞書の場合はコロンで書いてやる。\n",
    "\n",
    "d = {x: y for x, y in zip(w, r)}"
   ]
  },
  {
   "cell_type": "code",
   "execution_count": 7,
   "id": "10603d00-8bce-42d4-976a-05d5c8c98405",
   "metadata": {},
   "outputs": [
    {
     "name": "stdout",
     "output_type": "stream",
     "text": [
      "{'mon': 'coffee', 'tue': 'milk', 'wed': 'water'}\n"
     ]
    }
   ],
   "source": [
    "print(d)"
   ]
  },
  {
   "cell_type": "code",
   "execution_count": null,
   "id": "6bdb7cef-82ca-49a3-bf10-1ec5fff293aa",
   "metadata": {},
   "outputs": [],
   "source": []
  }
 ],
 "metadata": {
  "kernelspec": {
   "display_name": "Python 3 (ipykernel)",
   "language": "python",
   "name": "python3"
  },
  "language_info": {
   "codemirror_mode": {
    "name": "ipython",
    "version": 3
   },
   "file_extension": ".py",
   "mimetype": "text/x-python",
   "name": "python",
   "nbconvert_exporter": "python",
   "pygments_lexer": "ipython3",
   "version": "3.9.10"
  }
 },
 "nbformat": 4,
 "nbformat_minor": 5
}
