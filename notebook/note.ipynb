{
 "cells": [
  {
   "cell_type": "code",
   "execution_count": 33,
   "id": "00801d68-3dac-4993-b6d1-b54dd51cfd23",
   "metadata": {},
   "outputs": [
    {
     "name": "stdout",
     "output_type": "stream",
     "text": [
      "beef, beer, ice\n"
     ]
    }
   ],
   "source": [
    "def menu(entree, drink, dessert):\n",
    "  print('{}, {}, {}'.format(entree, drink, dessert))\n",
    "  \n",
    "menu(entree='beef', drink='beer', dessert='ice')"
   ]
  },
  {
   "cell_type": "markdown",
   "id": "3dee276b-ddf8-4085-8ae0-fdad1367a904",
   "metadata": {},
   "source": [
    "## Defalt param"
   ]
  },
  {
   "cell_type": "code",
   "execution_count": 34,
   "id": "bb7c34c9-649e-445a-a2a9-35d10f4eb843",
   "metadata": {},
   "outputs": [
    {
     "name": "stdout",
     "output_type": "stream",
     "text": [
      "beef, beer, ice\n"
     ]
    }
   ],
   "source": [
    "def menu(entree='beef', drink='beer', dessert='ice'):\n",
    "  print('{}, {}, {}'.format(entree, drink, dessert))\n",
    "  \n",
    "menu()"
   ]
  },
  {
   "cell_type": "markdown",
   "id": "e878a521-ce41-4271-82f9-076657ea45a4",
   "metadata": {},
   "source": [
    "## デフォルト引数で気をつけること"
   ]
  },
  {
   "cell_type": "code",
   "execution_count": null,
   "id": "df99f5b4-a67b-46e4-a041-91251c941a6a",
   "metadata": {},
   "outputs": [],
   "source": []
  },
  {
   "cell_type": "code",
   "execution_count": 35,
   "id": "e3460706-9ff2-4b08-8cad-082612e7fca5",
   "metadata": {},
   "outputs": [
    {
     "name": "stdout",
     "output_type": "stream",
     "text": [
      "[1, 2, 3, 100]\n"
     ]
    }
   ],
   "source": [
    "def test_func(x, l=[]):\n",
    "  l.append(x)\n",
    "  return l\n",
    "\n",
    "y = [1, 2, 3]\n",
    "\n",
    "r = test_func(100, y)\n",
    "print(r)"
   ]
  },
  {
   "cell_type": "code",
   "execution_count": 36,
   "id": "260c622c-7e13-47b3-b9d6-e4c78a66bf60",
   "metadata": {},
   "outputs": [
    {
     "name": "stdout",
     "output_type": "stream",
     "text": [
      "[100]\n"
     ]
    }
   ],
   "source": [
    "r = test_func(100)\n",
    "print(r)"
   ]
  },
  {
   "cell_type": "code",
   "execution_count": 37,
   "id": "112131ee-0c4f-4a63-bf9b-d8ba15dd5344",
   "metadata": {},
   "outputs": [
    {
     "name": "stdout",
     "output_type": "stream",
     "text": [
      "[100, 100]\n"
     ]
    }
   ],
   "source": [
    "r = test_func(100)\n",
    "print(r)"
   ]
  },
  {
   "cell_type": "markdown",
   "id": "9d639845-9b5c-4c88-8088-b0d9d9ce50d1",
   "metadata": {},
   "source": [
    "### l は参照渡し\n",
    "\n",
    "listの初期値をNoneにすることにより、循環参照を防ぐ"
   ]
  },
  {
   "cell_type": "code",
   "execution_count": 38,
   "id": "f859b165-dbfb-4857-8221-15d2b22faefe",
   "metadata": {},
   "outputs": [],
   "source": [
    "def test_func(x, l=None):\n",
    "  if l is None:\n",
    "    l = []\n",
    "  l.append(x)\n",
    "  return l\n"
   ]
  },
  {
   "cell_type": "code",
   "execution_count": 39,
   "id": "4df9c380-0eda-4702-bf51-63779b4fb8df",
   "metadata": {},
   "outputs": [
    {
     "name": "stdout",
     "output_type": "stream",
     "text": [
      "[200]\n"
     ]
    }
   ],
   "source": [
    "r = test_func(200)\n",
    "print(r)"
   ]
  },
  {
   "cell_type": "code",
   "execution_count": 40,
   "id": "70c14728-192f-4a4f-bbf9-c56a33b6e2b6",
   "metadata": {},
   "outputs": [
    {
     "name": "stdout",
     "output_type": "stream",
     "text": [
      "[200]\n"
     ]
    }
   ],
   "source": [
    "r = test_func(200)\n",
    "print(r)"
   ]
  },
  {
   "cell_type": "markdown",
   "id": "f9a0d8b8-e275-4e6b-8b59-dd75866df3d1",
   "metadata": {},
   "source": [
    "## 位置引数のタプル化"
   ]
  },
  {
   "cell_type": "code",
   "execution_count": 41,
   "id": "1f795ec9-0518-47fd-ab57-b9f026b2fea4",
   "metadata": {},
   "outputs": [],
   "source": [
    "def say_something(*args):\n",
    "  print(args)\n",
    "  "
   ]
  },
  {
   "cell_type": "code",
   "execution_count": 42,
   "id": "0776e650-b839-4661-b619-ba905d8e201c",
   "metadata": {},
   "outputs": [
    {
     "name": "stdout",
     "output_type": "stream",
     "text": [
      "('Hi!', 'Mike', 'Nance')\n"
     ]
    }
   ],
   "source": [
    "say_something('Hi!', 'Mike', 'Nance')"
   ]
  },
  {
   "cell_type": "code",
   "execution_count": 43,
   "id": "aef6e13c-709d-45f4-a5f6-6d610f4d5dc2",
   "metadata": {},
   "outputs": [],
   "source": [
    "def say_something(word, *args):\n",
    "  print('word =', word)\n",
    "  for arg in args:\n",
    "    print(arg)"
   ]
  },
  {
   "cell_type": "code",
   "execution_count": 44,
   "id": "29528d66-bbdf-4465-abd2-2be141c2671a",
   "metadata": {},
   "outputs": [
    {
     "name": "stdout",
     "output_type": "stream",
     "text": [
      "word = Hi!\n",
      "('Mike', 'Nancy')\n"
     ]
    }
   ],
   "source": [
    "t = ('Mike', 'Nancy')\n",
    "say_something('Hi!', t)"
   ]
  },
  {
   "cell_type": "markdown",
   "id": "a2ac7b6a-fa66-4fa3-8289-b03c81981469",
   "metadata": {},
   "source": [
    "## キーワード引数の辞書化"
   ]
  },
  {
   "cell_type": "code",
   "execution_count": 45,
   "id": "abb63a28-de62-4bd3-bb8c-8e90b2fbb6a5",
   "metadata": {},
   "outputs": [],
   "source": [
    "def menu(**kwargs):\n",
    "  for k, v in kwargs.items():\n",
    "      print(k, v)"
   ]
  },
  {
   "cell_type": "code",
   "execution_count": 46,
   "id": "0f9f57b1-5fe9-46c8-a377-9ee656fe6bd1",
   "metadata": {},
   "outputs": [
    {
     "name": "stdout",
     "output_type": "stream",
     "text": [
      "entree beef\n",
      "drink calpis\n"
     ]
    }
   ],
   "source": [
    "d = {\n",
    "  'entree': 'beef',\n",
    "  'drink': 'calpis'\n",
    "}\n",
    "menu(**d) # ⚡duble comma."
   ]
  },
  {
   "cell_type": "markdown",
   "id": "3d563ddf-aeb5-4516-809d-77f02a1b0249",
   "metadata": {},
   "source": [
    "## Docstringsとは"
   ]
  },
  {
   "cell_type": "code",
   "execution_count": 47,
   "id": "63eb28c6-3476-444b-87fc-157403d4a6ea",
   "metadata": {},
   "outputs": [],
   "source": [
    "def example_func(param1, param2):\n",
    "  \"\"\"Example function with types documented inthe docstring.\n",
    "  \n",
    "  Args:\n",
    "    param1 (int): The first parameter.\n",
    "    param2 (str): The second parameter.\n",
    "    \n",
    "  Returns:\n",
    "    bool: The return value. True for success, False otherwise.\n",
    "  \"\"\"\n",
    "  print(param1)\n",
    "  print(param2)\n",
    "  return True\n"
   ]
  },
  {
   "cell_type": "code",
   "execution_count": 48,
   "id": "4ba8cb45-28f0-4cd4-bb13-2b29bac9d636",
   "metadata": {},
   "outputs": [
    {
     "data": {
      "text/plain": [
       "'Example function with types documented inthe docstring.\\n  \\n  Args:\\n    param1 (int): The first parameter.\\n    param2 (str): The second parameter.\\n    \\n  Returns:\\n    bool: The return value. True for success, False otherwise.\\n  '"
      ]
     },
     "execution_count": 48,
     "metadata": {},
     "output_type": "execute_result"
    }
   ],
   "source": [
    "example_func.__doc__"
   ]
  },
  {
   "cell_type": "code",
   "execution_count": null,
   "id": "64cd82e5-8465-46f8-ab73-c2e253a6c415",
   "metadata": {},
   "outputs": [],
   "source": []
  }
 ],
 "metadata": {
  "kernelspec": {
   "display_name": "Python 3 (ipykernel)",
   "language": "python",
   "name": "python3"
  },
  "language_info": {
   "codemirror_mode": {
    "name": "ipython",
    "version": 3
   },
   "file_extension": ".py",
   "mimetype": "text/x-python",
   "name": "python",
   "nbconvert_exporter": "python",
   "pygments_lexer": "ipython3",
   "version": "3.8.12"
  }
 },
 "nbformat": 4,
 "nbformat_minor": 5
}
