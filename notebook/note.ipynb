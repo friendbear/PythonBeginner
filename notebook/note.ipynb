{
 "cells": [
  {
   "cell_type": "code",
   "execution_count": 1,
   "id": "00801d68-3dac-4993-b6d1-b54dd51cfd23",
   "metadata": {},
   "outputs": [
    {
     "name": "stdout",
     "output_type": "stream",
     "text": [
      "beef, beer, ice\n"
     ]
    }
   ],
   "source": [
    "def menu(entree, drink, dessert):\n",
    "  print('{}, {}, {}'.format(entree, drink, dessert))\n",
    "  \n",
    "menu(entree='beef', drink='beer', dessert='ice')"
   ]
  },
  {
   "cell_type": "markdown",
   "id": "3dee276b-ddf8-4085-8ae0-fdad1367a904",
   "metadata": {},
   "source": [
    "## Defalt param"
   ]
  },
  {
   "cell_type": "code",
   "execution_count": 2,
   "id": "bb7c34c9-649e-445a-a2a9-35d10f4eb843",
   "metadata": {},
   "outputs": [
    {
     "name": "stdout",
     "output_type": "stream",
     "text": [
      "beef, beer, ice\n"
     ]
    }
   ],
   "source": [
    "def menu(entree='beef', drink='beer', dessert='ice'):\n",
    "  print('{}, {}, {}'.format(entree, drink, dessert))\n",
    "  \n",
    "menu()"
   ]
  },
  {
   "cell_type": "markdown",
   "id": "e878a521-ce41-4271-82f9-076657ea45a4",
   "metadata": {},
   "source": [
    "## デフォルト引数で気をつけること"
   ]
  },
  {
   "cell_type": "code",
   "execution_count": null,
   "id": "df99f5b4-a67b-46e4-a041-91251c941a6a",
   "metadata": {},
   "outputs": [],
   "source": []
  },
  {
   "cell_type": "code",
   "execution_count": 3,
   "id": "e3460706-9ff2-4b08-8cad-082612e7fca5",
   "metadata": {},
   "outputs": [
    {
     "name": "stdout",
     "output_type": "stream",
     "text": [
      "[1, 2, 3, 100]\n"
     ]
    }
   ],
   "source": [
    "def test_func(x, l=[]):\n",
    "  l.append(x)\n",
    "  return l\n",
    "\n",
    "y = [1, 2, 3]\n",
    "\n",
    "r = test_func(100, y)\n",
    "print(r)"
   ]
  },
  {
   "cell_type": "code",
   "execution_count": 4,
   "id": "260c622c-7e13-47b3-b9d6-e4c78a66bf60",
   "metadata": {},
   "outputs": [
    {
     "name": "stdout",
     "output_type": "stream",
     "text": [
      "[100]\n"
     ]
    }
   ],
   "source": [
    "r = test_func(100)\n",
    "print(r)"
   ]
  },
  {
   "cell_type": "code",
   "execution_count": 5,
   "id": "112131ee-0c4f-4a63-bf9b-d8ba15dd5344",
   "metadata": {},
   "outputs": [
    {
     "name": "stdout",
     "output_type": "stream",
     "text": [
      "[100, 100]\n"
     ]
    }
   ],
   "source": [
    "r = test_func(100)\n",
    "print(r)"
   ]
  },
  {
   "cell_type": "markdown",
   "id": "9d639845-9b5c-4c88-8088-b0d9d9ce50d1",
   "metadata": {},
   "source": [
    "### l は参照渡し\n",
    "\n",
    "listの初期値をNoneにすることにより、循環参照を防ぐ"
   ]
  },
  {
   "cell_type": "code",
   "execution_count": 6,
   "id": "f859b165-dbfb-4857-8221-15d2b22faefe",
   "metadata": {},
   "outputs": [],
   "source": [
    "def test_func(x, l=None):\n",
    "  if l is None:\n",
    "    l = []\n",
    "  l.append(x)\n",
    "  return l\n"
   ]
  },
  {
   "cell_type": "code",
   "execution_count": 7,
   "id": "4df9c380-0eda-4702-bf51-63779b4fb8df",
   "metadata": {},
   "outputs": [
    {
     "name": "stdout",
     "output_type": "stream",
     "text": [
      "[200]\n"
     ]
    }
   ],
   "source": [
    "r = test_func(200)\n",
    "print(r)"
   ]
  },
  {
   "cell_type": "code",
   "execution_count": 8,
   "id": "70c14728-192f-4a4f-bbf9-c56a33b6e2b6",
   "metadata": {},
   "outputs": [
    {
     "name": "stdout",
     "output_type": "stream",
     "text": [
      "[200]\n"
     ]
    }
   ],
   "source": [
    "r = test_func(200)\n",
    "print(r)"
   ]
  },
  {
   "cell_type": "markdown",
   "id": "f9a0d8b8-e275-4e6b-8b59-dd75866df3d1",
   "metadata": {},
   "source": [
    "## 位置引数のタプル化"
   ]
  },
  {
   "cell_type": "code",
   "execution_count": 9,
   "id": "1f795ec9-0518-47fd-ab57-b9f026b2fea4",
   "metadata": {},
   "outputs": [],
   "source": [
    "def say_something(*args):\n",
    "  print(args)\n",
    "  "
   ]
  },
  {
   "cell_type": "code",
   "execution_count": 10,
   "id": "0776e650-b839-4661-b619-ba905d8e201c",
   "metadata": {},
   "outputs": [
    {
     "name": "stdout",
     "output_type": "stream",
     "text": [
      "('Hi!', 'Mike', 'Nance')\n"
     ]
    }
   ],
   "source": [
    "say_something('Hi!', 'Mike', 'Nance')"
   ]
  },
  {
   "cell_type": "code",
   "execution_count": 11,
   "id": "aef6e13c-709d-45f4-a5f6-6d610f4d5dc2",
   "metadata": {},
   "outputs": [],
   "source": [
    "def say_something(word, *args):\n",
    "  print('word =', word)\n",
    "  for arg in args:\n",
    "    print(arg)"
   ]
  },
  {
   "cell_type": "code",
   "execution_count": 12,
   "id": "29528d66-bbdf-4465-abd2-2be141c2671a",
   "metadata": {},
   "outputs": [
    {
     "name": "stdout",
     "output_type": "stream",
     "text": [
      "word = Hi!\n",
      "('Mike', 'Nancy')\n"
     ]
    }
   ],
   "source": [
    "t = ('Mike', 'Nancy')\n",
    "say_something('Hi!', t)"
   ]
  },
  {
   "cell_type": "markdown",
   "id": "a2ac7b6a-fa66-4fa3-8289-b03c81981469",
   "metadata": {},
   "source": [
    "## キーワード引数の辞書化"
   ]
  },
  {
   "cell_type": "code",
   "execution_count": 13,
   "id": "abb63a28-de62-4bd3-bb8c-8e90b2fbb6a5",
   "metadata": {},
   "outputs": [],
   "source": [
    "def menu(**kwargs):\n",
    "  for k, v in kwargs.items():\n",
    "      print(k, v)"
   ]
  },
  {
   "cell_type": "code",
   "execution_count": 14,
   "id": "0f9f57b1-5fe9-46c8-a377-9ee656fe6bd1",
   "metadata": {},
   "outputs": [
    {
     "name": "stdout",
     "output_type": "stream",
     "text": [
      "entree beef\n",
      "drink calpis\n"
     ]
    }
   ],
   "source": [
    "d = {\n",
    "  'entree': 'beef',\n",
    "  'drink': 'calpis'\n",
    "}\n",
    "menu(**d) # ⚡duble comma."
   ]
  },
  {
   "cell_type": "markdown",
   "id": "3d563ddf-aeb5-4516-809d-77f02a1b0249",
   "metadata": {},
   "source": [
    "## Docstringsとは"
   ]
  },
  {
   "cell_type": "code",
   "execution_count": 2,
   "id": "63eb28c6-3476-444b-87fc-157403d4a6ea",
   "metadata": {},
   "outputs": [],
   "source": [
    "def example_func(param1, param2):\n",
    "  \"\"\"Example function with types documented inthe docstring.\n",
    "  \n",
    "  Args:\n",
    "    param1 (int): The first parameter.\n",
    "    param2 (str): The second parameter.\n",
    "    \n",
    "  Returns:\n",
    "    bool: The return value. True for success, False otherwise.\n",
    "  \"\"\"\n",
    "  print(param1)\n",
    "  print(param2)\n",
    "  return True\n"
   ]
  },
  {
   "cell_type": "code",
   "execution_count": 3,
   "id": "4ba8cb45-28f0-4cd4-bb13-2b29bac9d636",
   "metadata": {},
   "outputs": [
    {
     "data": {
      "text/plain": [
       "'Example function with types documented inthe docstring.\\n  \\n  Args:\\n    param1 (int): The first parameter.\\n    param2 (str): The second parameter.\\n    \\n  Returns:\\n    bool: The return value. True for success, False otherwise.\\n  '"
      ]
     },
     "execution_count": 3,
     "metadata": {},
     "output_type": "execute_result"
    }
   ],
   "source": [
    "example_func.__doc__"
   ]
  },
  {
   "cell_type": "code",
   "execution_count": 4,
   "id": "64cd82e5-8465-46f8-ab73-c2e253a6c415",
   "metadata": {},
   "outputs": [
    {
     "name": "stdout",
     "output_type": "stream",
     "text": [
      "Help on function example_func in module __main__:\n",
      "\n",
      "example_func(param1, param2)\n",
      "    Example function with types documented inthe docstring.\n",
      "    \n",
      "    Args:\n",
      "      param1 (int): The first parameter.\n",
      "      param2 (str): The second parameter.\n",
      "      \n",
      "    Returns:\n",
      "      bool: The return value. True for success, False otherwise.\n",
      "\n"
     ]
    }
   ],
   "source": [
    "help(example_func)"
   ]
  },
  {
   "cell_type": "markdown",
   "id": "8c23e07c-ff0e-46bb-9762-dcac68dd5f50",
   "metadata": {},
   "source": [
    "## 関数内関数"
   ]
  },
  {
   "cell_type": "code",
   "execution_count": 12,
   "id": "a45e4542-996f-43d4-8ddc-b384187fd857",
   "metadata": {},
   "outputs": [],
   "source": [
    "def outer(a, b):\n",
    "  def plus(c, d):\n",
    "    return c + d\n",
    "  r1 = plus(a, b)\n",
    "  r2 = plus(b, a)\n",
    "  print(r1 + r2)"
   ]
  },
  {
   "cell_type": "code",
   "execution_count": 13,
   "id": "f9e9b531-acbd-44f0-968b-6e89c5048ed2",
   "metadata": {},
   "outputs": [
    {
     "name": "stdout",
     "output_type": "stream",
     "text": [
      "6\n"
     ]
    }
   ],
   "source": [
    "outer(1, 2)"
   ]
  },
  {
   "cell_type": "markdown",
   "id": "ba7de779-1ebe-40e3-a677-cae1f19d583e",
   "metadata": {},
   "source": [
    "## クロージャー"
   ]
  },
  {
   "cell_type": "code",
   "execution_count": 14,
   "id": "e525d527-5c1f-4f98-8ec8-32c7f5cc846a",
   "metadata": {},
   "outputs": [],
   "source": [
    "def outer(a, b):\n",
    "  def inner():\n",
    "    return a + b\n",
    "  \n",
    "  return inner"
   ]
  },
  {
   "cell_type": "code",
   "execution_count": 15,
   "id": "f05fe12f-75ec-49f0-be40-d7de58b91efc",
   "metadata": {},
   "outputs": [
    {
     "name": "stdout",
     "output_type": "stream",
     "text": [
      "<function outer.<locals>.inner at 0x10ded43a0>\n"
     ]
    }
   ],
   "source": [
    "print(outer(1, 2))"
   ]
  },
  {
   "cell_type": "code",
   "execution_count": 17,
   "id": "6b6315d5-d95a-46fb-b6d1-a9368a81a420",
   "metadata": {},
   "outputs": [
    {
     "name": "stdout",
     "output_type": "stream",
     "text": [
      "7\n"
     ]
    }
   ],
   "source": [
    "f = outer(3, 4)\n",
    "r = f()\n",
    "print(r)"
   ]
  },
  {
   "cell_type": "code",
   "execution_count": 18,
   "id": "2096475b-3acb-44ce-b16a-8db0f9016eb4",
   "metadata": {},
   "outputs": [],
   "source": [
    "def circle_area_func(pi):\n",
    "  def circle_area(radius):\n",
    "    return pi * radius * radius\n",
    "  return circle_area\n"
   ]
  },
  {
   "cell_type": "code",
   "execution_count": 19,
   "id": "12031cb1-6fed-44f2-8839-ee1d6d31fd69",
   "metadata": {},
   "outputs": [],
   "source": [
    "cal1 = circle_area_func(3.14)\n",
    "cal2 = circle_area_func(3.141592)"
   ]
  },
  {
   "cell_type": "code",
   "execution_count": 23,
   "id": "e785df31-3fe7-4bbb-9f76-1e4478dc1617",
   "metadata": {},
   "outputs": [
    {
     "name": "stdout",
     "output_type": "stream",
     "text": [
      "314.0\n",
      "314.1592\n"
     ]
    }
   ],
   "source": [
    "print(cal1(10))\n",
    "print(cal2(10))"
   ]
  },
  {
   "cell_type": "markdown",
   "id": "4532fefc-6863-498e-83f3-aede9e27ed03",
   "metadata": {},
   "source": [
    "## デコレーター"
   ]
  },
  {
   "cell_type": "code",
   "execution_count": 30,
   "id": "ba9145c9-cbc1-4f85-9fb0-d5acb63db130",
   "metadata": {},
   "outputs": [
    {
     "name": "stdout",
     "output_type": "stream",
     "text": [
      "start\n",
      "end\n",
      "30\n"
     ]
    }
   ],
   "source": [
    "def add_num(a, b):\n",
    "  return a + b\n",
    "\n",
    "print('start')\n",
    "r = add_num(10, 20)\n",
    "print('end')\n",
    "\n",
    "print(r)\n"
   ]
  },
  {
   "cell_type": "code",
   "execution_count": 64,
   "id": "7fd5c026-278f-4b55-83b6-940c39fc5ae5",
   "metadata": {},
   "outputs": [],
   "source": [
    "def print_info(func):\n",
    "  def wrapper(*args, **kwargs):\n",
    "    print('start')\n",
    "    result = func(*args, **kwargs)\n",
    "    print('end')\n",
    "    return result\n",
    "  return wrapper"
   ]
  },
  {
   "cell_type": "code",
   "execution_count": 65,
   "id": "eb90937a-8dea-40cd-9b07-ad33fdeaae40",
   "metadata": {},
   "outputs": [],
   "source": [
    "def print_more(func):\n",
    "  def wrapper(*args, **kwargs):\n",
    "    print('func', func.__name__)\n",
    "    print('args', args)\n",
    "    print('kwargs', kwargs)\n",
    "    result = func(*args, **kwargs)\n",
    "    print('result', result)\n",
    "    return result\n",
    "  return wrapper"
   ]
  },
  {
   "cell_type": "code",
   "execution_count": 66,
   "id": "263509e8-c3fb-4108-aa41-b2841a51b7a3",
   "metadata": {},
   "outputs": [
    {
     "name": "stdout",
     "output_type": "stream",
     "text": [
      "start\n",
      "end\n",
      "30\n"
     ]
    }
   ],
   "source": [
    "def add_num(a, b):\n",
    "  return a + b\n",
    "\n",
    "f = print_info(add_num)\n",
    "r = f(10, 20)\n",
    "print(r)"
   ]
  },
  {
   "cell_type": "code",
   "execution_count": 67,
   "id": "dec5bd44-1088-427a-bc3c-27bd53be635f",
   "metadata": {},
   "outputs": [
    {
     "name": "stdout",
     "output_type": "stream",
     "text": [
      "start\n",
      "start\n",
      "end\n",
      "end\n",
      "30\n"
     ]
    }
   ],
   "source": [
    "@print_info  # @でファンクションをつけてやるとデコレータを呼び出せる\n",
    "def add_num(a, b):\n",
    "  return a + b\n",
    "\n",
    "f = print_info(add_num)\n",
    "r = f(10, 20)\n",
    "print(r)"
   ]
  },
  {
   "cell_type": "code",
   "execution_count": 68,
   "id": "92c1ca34-ba93-4405-a959-a4f87f4f213c",
   "metadata": {},
   "outputs": [],
   "source": [
    "@print_info\n",
    "def sub_num(a, b):\n",
    "  return a - b"
   ]
  },
  {
   "cell_type": "code",
   "execution_count": 69,
   "id": "b15cb112-e440-407d-99ce-f29a3a80458a",
   "metadata": {},
   "outputs": [
    {
     "name": "stdout",
     "output_type": "stream",
     "text": [
      "start\n",
      "end\n"
     ]
    },
    {
     "data": {
      "text/plain": [
       "20"
      ]
     },
     "execution_count": 69,
     "metadata": {},
     "output_type": "execute_result"
    }
   ],
   "source": [
    "sub_num(30, 10)  # 上記add_num をデコレーターで付け加えるだけでprint_infoも呼び出される"
   ]
  },
  {
   "cell_type": "code",
   "execution_count": 70,
   "id": "488e218c-0f11-428e-a78e-aa54c56c711a",
   "metadata": {},
   "outputs": [],
   "source": [
    "# デコレーターは重ねられる\n",
    "@print_info\n",
    "@print_more\n",
    "def div_num(a, b):\n",
    "  return a / b\n"
   ]
  },
  {
   "cell_type": "code",
   "execution_count": 71,
   "id": "99dd9805-40ed-470b-991c-da155a2cb250",
   "metadata": {},
   "outputs": [
    {
     "name": "stdout",
     "output_type": "stream",
     "text": [
      "start\n",
      "func div_num\n",
      "args (10, 2)\n",
      "kwargs {}\n",
      "result 5.0\n",
      "end\n"
     ]
    },
    {
     "data": {
      "text/plain": [
       "5.0"
      ]
     },
     "execution_count": 71,
     "metadata": {},
     "output_type": "execute_result"
    }
   ],
   "source": [
    "div_num(10, 2)"
   ]
  },
  {
   "cell_type": "markdown",
   "id": "e0c49589-3874-4046-aab9-36f07eb0e138",
   "metadata": {},
   "source": [
    "## ラムダ"
   ]
  },
  {
   "cell_type": "code",
   "execution_count": null,
   "id": "2c91a6f3-8c46-44b5-861a-43d7090295a6",
   "metadata": {},
   "outputs": [],
   "source": []
  }
 ],
 "metadata": {
  "kernelspec": {
   "display_name": "Python 3 (ipykernel)",
   "language": "python",
   "name": "python3"
  },
  "language_info": {
   "codemirror_mode": {
    "name": "ipython",
    "version": 3
   },
   "file_extension": ".py",
   "mimetype": "text/x-python",
   "name": "python",
   "nbconvert_exporter": "python",
   "pygments_lexer": "ipython3",
   "version": "3.9.10"
  }
 },
 "nbformat": 4,
 "nbformat_minor": 5
}
