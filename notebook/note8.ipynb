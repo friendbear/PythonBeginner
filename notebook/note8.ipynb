{
 "cells": [
  {
   "cell_type": "markdown",
   "id": "307a8c6f-4ff3-4714-898e-80afb4703da8",
   "metadata": {},
   "source": [
    "## 例外処理"
   ]
  },
  {
   "cell_type": "code",
   "execution_count": 34,
   "id": "74b0727d-dca3-4d45-bf80-72adfcdbacfe",
   "metadata": {},
   "outputs": [
    {
     "ename": "IndexError",
     "evalue": "list index out of range",
     "output_type": "error",
     "traceback": [
      "\u001b[0;31m---------------------------------------------------------------------------\u001b[0m",
      "\u001b[0;31mIndexError\u001b[0m                                Traceback (most recent call last)",
      "\u001b[0;32m/var/folders/cw/mfjkzkvx0vl4qt1c_k0skyth0000gn/T/ipykernel_3813/1264748014.py\u001b[0m in \u001b[0;36m<module>\u001b[0;34m\u001b[0m\n\u001b[1;32m      1\u001b[0m \u001b[0ml\u001b[0m \u001b[0;34m=\u001b[0m \u001b[0;34m[\u001b[0m\u001b[0;36m1\u001b[0m\u001b[0;34m,\u001b[0m \u001b[0;36m2\u001b[0m\u001b[0;34m,\u001b[0m \u001b[0;36m3\u001b[0m\u001b[0;34m]\u001b[0m\u001b[0;34m\u001b[0m\u001b[0;34m\u001b[0m\u001b[0m\n\u001b[1;32m      2\u001b[0m \u001b[0mi\u001b[0m \u001b[0;34m=\u001b[0m \u001b[0;36m4\u001b[0m\u001b[0;34m\u001b[0m\u001b[0;34m\u001b[0m\u001b[0m\n\u001b[0;32m----> 3\u001b[0;31m \u001b[0ml\u001b[0m\u001b[0;34m[\u001b[0m\u001b[0mi\u001b[0m\u001b[0;34m]\u001b[0m\u001b[0;34m\u001b[0m\u001b[0;34m\u001b[0m\u001b[0m\n\u001b[0m",
      "\u001b[0;31mIndexError\u001b[0m: list index out of range"
     ]
    }
   ],
   "source": [
    "l = [1, 2, 3]\n",
    "i = 4\n",
    "l[i]"
   ]
  },
  {
   "cell_type": "code",
   "execution_count": 35,
   "id": "6e2f42d1-5f90-493f-92ab-a0859ef3881a",
   "metadata": {},
   "outputs": [
    {
     "name": "stdout",
     "output_type": "stream",
     "text": [
      "Do'nt worry\n"
     ]
    }
   ],
   "source": [
    "try:\n",
    "  l[i]\n",
    "except:\n",
    "  print(\"Do'nt worry\")"
   ]
  },
  {
   "cell_type": "code",
   "execution_count": 36,
   "id": "b5c0bdc5-7851-47df-b800-1bd44da83279",
   "metadata": {},
   "outputs": [
    {
     "name": "stdout",
     "output_type": "stream",
     "text": [
      "last\n"
     ]
    }
   ],
   "source": [
    "print(\"last\")"
   ]
  },
  {
   "cell_type": "code",
   "execution_count": 37,
   "id": "ff98ec4c-ea42-4250-bb2d-617703c5d6a0",
   "metadata": {},
   "outputs": [],
   "source": [
    "del(l)"
   ]
  },
  {
   "cell_type": "markdown",
   "id": "c420cfb7-974a-45ce-884b-5724bdfd6193",
   "metadata": {},
   "source": [
    "## try except else finaly"
   ]
  },
  {
   "cell_type": "code",
   "execution_count": 38,
   "id": "f649b8f6-e334-4a8e-98bd-81a571b937f1",
   "metadata": {},
   "outputs": [
    {
     "name": "stdout",
     "output_type": "stream",
     "text": [
      "done\n",
      "clean up\n"
     ]
    }
   ],
   "source": [
    "l = ['hello', 'except', 'else', 'finaly', 'try']\n",
    "try:\n",
    "  l[i]\n",
    "\n",
    "except IndexError as exc:\n",
    "    print(\"Do'nt worry: {}\".format(exc))\n",
    "except NameError as ex:\n",
    "    print(ex)\n",
    "else:\n",
    "  print('done')\n",
    "finally:\n",
    "  print('clean up')\n"
   ]
  },
  {
   "cell_type": "code",
   "execution_count": null,
   "id": "ff0555ff-8073-4855-9268-8d4d8093b929",
   "metadata": {},
   "outputs": [],
   "source": []
  }
 ],
 "metadata": {
  "kernelspec": {
   "display_name": "Python 3 (ipykernel)",
   "language": "python",
   "name": "python3"
  },
  "language_info": {
   "codemirror_mode": {
    "name": "ipython",
    "version": 3
   },
   "file_extension": ".py",
   "mimetype": "text/x-python",
   "name": "python",
   "nbconvert_exporter": "python",
   "pygments_lexer": "ipython3",
   "version": "3.9.10"
  }
 },
 "nbformat": 4,
 "nbformat_minor": 5
}
