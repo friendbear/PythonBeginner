{
 "cells": [
  {
   "cell_type": "markdown",
   "id": "8f841f6e-94df-4742-b46d-c5aaaf4dd71c",
   "metadata": {},
   "source": [
    "## リスト内包表記"
   ]
  },
  {
   "cell_type": "code",
   "execution_count": 1,
   "id": "4b7022f9-c984-447d-b008-67fed0ecfe84",
   "metadata": {},
   "outputs": [],
   "source": [
    "t = (1, 2, 3, 4, 5)"
   ]
  },
  {
   "cell_type": "code",
   "execution_count": 7,
   "id": "978b474e-c943-42ed-be00-de8b27572d12",
   "metadata": {},
   "outputs": [],
   "source": [
    "r = []\n",
    "for i in t:\n",
    "  if i % 2 == 0:\n",
    "    r.append(i)"
   ]
  },
  {
   "cell_type": "code",
   "execution_count": 8,
   "id": "dddfd562-afbb-4a47-9793-5e1038b2c21e",
   "metadata": {},
   "outputs": [
    {
     "name": "stdout",
     "output_type": "stream",
     "text": [
      "[2, 4]\n"
     ]
    }
   ],
   "source": [
    "print(r)"
   ]
  },
  {
   "cell_type": "code",
   "execution_count": 9,
   "id": "7096d283-1a42-4afb-ad8b-979502e66f59",
   "metadata": {},
   "outputs": [],
   "source": [
    "r = [i for i in t if i % 2 == 0]"
   ]
  },
  {
   "cell_type": "code",
   "execution_count": 10,
   "id": "d24708bd-66f6-40dd-98fc-9fe30c38d557",
   "metadata": {},
   "outputs": [
    {
     "name": "stdout",
     "output_type": "stream",
     "text": [
      "[2, 4]\n"
     ]
    }
   ],
   "source": [
    "print(r)"
   ]
  },
  {
   "cell_type": "code",
   "execution_count": 11,
   "id": "73bdd132-7f40-486d-8bde-b627b24398f0",
   "metadata": {},
   "outputs": [],
   "source": [
    "t2 = (5, 6, 7, 8, 9, 10)"
   ]
  },
  {
   "cell_type": "code",
   "execution_count": 12,
   "id": "44267573-1d13-4dc9-b715-6ab5d93b4c55",
   "metadata": {},
   "outputs": [],
   "source": [
    "r = []\n",
    "for i in t:\n",
    "  for j in t2:\n",
    "    r.append(i * j)"
   ]
  },
  {
   "cell_type": "code",
   "execution_count": 13,
   "id": "af487569-e052-46af-bfed-1a89d157435f",
   "metadata": {},
   "outputs": [
    {
     "name": "stdout",
     "output_type": "stream",
     "text": [
      "[5, 6, 7, 8, 9, 10, 10, 12, 14, 16, 18, 20, 15, 18, 21, 24, 27, 30, 20, 24, 28, 32, 36, 40, 25, 30, 35, 40, 45, 50]\n"
     ]
    }
   ],
   "source": [
    "print(r)"
   ]
  },
  {
   "cell_type": "code",
   "execution_count": 14,
   "id": "d92c9be4-3e30-440d-9ceb-b2989da3b64c",
   "metadata": {},
   "outputs": [],
   "source": [
    "r = [i * j for i in t for j in t2]"
   ]
  },
  {
   "cell_type": "code",
   "execution_count": 15,
   "id": "37a235f3-093f-4569-acf5-2b85324e0d27",
   "metadata": {},
   "outputs": [
    {
     "name": "stdout",
     "output_type": "stream",
     "text": [
      "[5, 6, 7, 8, 9, 10, 10, 12, 14, 16, 18, 20, 15, 18, 21, 24, 27, 30, 20, 24, 28, 32, 36, 40, 25, 30, 35, 40, 45, 50]\n"
     ]
    }
   ],
   "source": [
    "print(r)"
   ]
  },
  {
   "cell_type": "code",
   "execution_count": null,
   "id": "5ebc1819-f561-43b6-9878-a276a7a9e5b9",
   "metadata": {},
   "outputs": [],
   "source": []
  }
 ],
 "metadata": {
  "kernelspec": {
   "display_name": "Python 3 (ipykernel)",
   "language": "python",
   "name": "python3"
  },
  "language_info": {
   "codemirror_mode": {
    "name": "ipython",
    "version": 3
   },
   "file_extension": ".py",
   "mimetype": "text/x-python",
   "name": "python",
   "nbconvert_exporter": "python",
   "pygments_lexer": "ipython3",
   "version": "3.9.10"
  }
 },
 "nbformat": 4,
 "nbformat_minor": 5
}
