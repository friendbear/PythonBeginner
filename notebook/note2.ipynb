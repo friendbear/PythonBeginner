{
 "cells": [
  {
   "cell_type": "markdown",
   "id": "a09dc071-6b1c-4640-96bb-f5a2e33d499d",
   "metadata": {},
   "source": [
    "## ジェネレータ"
   ]
  },
  {
   "cell_type": "code",
   "execution_count": 11,
   "id": "c990ffcc-0ca4-4bc8-bbb6-e93555db1b0e",
   "metadata": {},
   "outputs": [
    {
     "name": "stdout",
     "output_type": "stream",
     "text": [
      "Good morning\n",
      "Good afternoon\n",
      "Good night\n",
      "#######################\n",
      "Good morning\n",
      "Good afternoon\n",
      "Good night\n"
     ]
    }
   ],
   "source": [
    "l = ['Good morning', 'Good afternoon', 'Good night']\n",
    "\n",
    "for g in l:\n",
    "  print(g)\n",
    "\n",
    "print('#######################')\n",
    "def greeting():\n",
    "  yield 'Good morning'\n",
    "  yield 'Good afternoon'\n",
    "  yield 'Good night'\n",
    "  \n",
    "for g in greeting():\n",
    "  print(g)"
   ]
  },
  {
   "cell_type": "code",
   "execution_count": 12,
   "id": "144a1067-acd9-4b19-8546-8a9e5da3ff36",
   "metadata": {},
   "outputs": [
    {
     "name": "stdout",
     "output_type": "stream",
     "text": [
      "Good morning\n"
     ]
    }
   ],
   "source": [
    "g = greeting()\n",
    "print(next(g))\n"
   ]
  },
  {
   "cell_type": "code",
   "execution_count": 13,
   "id": "7878a99f-648c-474d-a0d4-7107866b618d",
   "metadata": {},
   "outputs": [
    {
     "name": "stdout",
     "output_type": "stream",
     "text": [
      "Good afternoon\n"
     ]
    }
   ],
   "source": [
    "print(next(g))"
   ]
  },
  {
   "cell_type": "code",
   "execution_count": 14,
   "id": "cc951967-f855-4fde-b70e-9ad0fc5a6114",
   "metadata": {},
   "outputs": [
    {
     "name": "stdout",
     "output_type": "stream",
     "text": [
      "Good night\n"
     ]
    }
   ],
   "source": [
    "print(next(g))"
   ]
  },
  {
   "cell_type": "code",
   "execution_count": 15,
   "id": "f0951c70-e0c8-43fc-979a-1819967c3ea1",
   "metadata": {},
   "outputs": [],
   "source": [
    "## ジェネレーター２\n",
    "def counter(num=10):\n",
    "  for _ in range(num):\n",
    "    yield 'run'"
   ]
  },
  {
   "cell_type": "code",
   "execution_count": 16,
   "id": "c9a624c3-b98f-4b68-a6dc-00f0fb0b0368",
   "metadata": {},
   "outputs": [
    {
     "name": "stdout",
     "output_type": "stream",
     "text": [
      "run\n",
      "run\n",
      "run\n",
      "run\n",
      "run\n",
      "run\n",
      "run\n",
      "run\n"
     ]
    }
   ],
   "source": [
    "c = counter()\n",
    "print(next(c))\n",
    "print(next(c))\n",
    "print(next(c))\n",
    "print(next(c))\n",
    "print(next(c))\n",
    "print(next(c))\n",
    "print(next(c))\n",
    "print(next(c))\n",
    "\n",
    "      \n",
    "      "
   ]
  },
  {
   "cell_type": "code",
   "execution_count": null,
   "id": "4915f6ec-5574-4b66-8f06-686e52635734",
   "metadata": {},
   "outputs": [],
   "source": []
  }
 ],
 "metadata": {
  "kernelspec": {
   "display_name": "Python 3 (ipykernel)",
   "language": "python",
   "name": "python3"
  },
  "language_info": {
   "codemirror_mode": {
    "name": "ipython",
    "version": 3
   },
   "file_extension": ".py",
   "mimetype": "text/x-python",
   "name": "python",
   "nbconvert_exporter": "python",
   "pygments_lexer": "ipython3",
   "version": "3.9.10"
  }
 },
 "nbformat": 4,
 "nbformat_minor": 5
}
