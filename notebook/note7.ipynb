{
 "cells": [
  {
   "cell_type": "markdown",
   "id": "130ff6d4-816f-4235-9ea1-7d6606efb956",
   "metadata": {},
   "source": [
    "## 名前空間とスコープ"
   ]
  },
  {
   "cell_type": "code",
   "execution_count": 1,
   "id": "6c9b247f-597d-4974-a3ee-c6d32779c5cd",
   "metadata": {},
   "outputs": [],
   "source": [
    "animal = 'cat'"
   ]
  },
  {
   "cell_type": "code",
   "execution_count": 2,
   "id": "abc7b8a8-7864-4c87-a93c-3dbe18e187d7",
   "metadata": {},
   "outputs": [
    {
     "name": "stdout",
     "output_type": "stream",
     "text": [
      "cat\n"
     ]
    }
   ],
   "source": [
    "print(animal)"
   ]
  },
  {
   "cell_type": "code",
   "execution_count": 5,
   "id": "c6fc5db6-ca30-4b4c-b9e0-45adbdc08ed2",
   "metadata": {},
   "outputs": [],
   "source": [
    "def f():\n",
    "  print(animal)\n",
    "  animal = 'aaa'\n",
    "  print('after')"
   ]
  },
  {
   "cell_type": "markdown",
   "id": "d90afc7d-3fc0-4bc0-90a0-b73d4c5f5264",
   "metadata": {},
   "source": [
    "## グローバル変数を使用した後編集はエラー"
   ]
  },
  {
   "cell_type": "code",
   "execution_count": 6,
   "id": "1990ddad-28d2-493f-9b6d-f5f4fbbe58f2",
   "metadata": {},
   "outputs": [
    {
     "ename": "UnboundLocalError",
     "evalue": "local variable 'animal' referenced before assignment",
     "output_type": "error",
     "traceback": [
      "\u001b[0;31m---------------------------------------------------------------------------\u001b[0m",
      "\u001b[0;31mUnboundLocalError\u001b[0m                         Traceback (most recent call last)",
      "\u001b[0;32m/var/folders/cw/mfjkzkvx0vl4qt1c_k0skyth0000gn/T/ipykernel_3394/3782956317.py\u001b[0m in \u001b[0;36m<module>\u001b[0;34m\u001b[0m\n\u001b[0;32m----> 1\u001b[0;31m \u001b[0mf\u001b[0m\u001b[0;34m(\u001b[0m\u001b[0;34m)\u001b[0m\u001b[0;34m\u001b[0m\u001b[0;34m\u001b[0m\u001b[0m\n\u001b[0m",
      "\u001b[0;32m/var/folders/cw/mfjkzkvx0vl4qt1c_k0skyth0000gn/T/ipykernel_3394/149741758.py\u001b[0m in \u001b[0;36mf\u001b[0;34m()\u001b[0m\n\u001b[1;32m      1\u001b[0m \u001b[0;32mdef\u001b[0m \u001b[0mf\u001b[0m\u001b[0;34m(\u001b[0m\u001b[0;34m)\u001b[0m\u001b[0;34m:\u001b[0m\u001b[0;34m\u001b[0m\u001b[0;34m\u001b[0m\u001b[0m\n\u001b[0;32m----> 2\u001b[0;31m   \u001b[0mprint\u001b[0m\u001b[0;34m(\u001b[0m\u001b[0manimal\u001b[0m\u001b[0;34m)\u001b[0m\u001b[0;34m\u001b[0m\u001b[0;34m\u001b[0m\u001b[0m\n\u001b[0m\u001b[1;32m      3\u001b[0m   \u001b[0manimal\u001b[0m \u001b[0;34m=\u001b[0m \u001b[0;34m'aaa'\u001b[0m\u001b[0;34m\u001b[0m\u001b[0;34m\u001b[0m\u001b[0m\n\u001b[1;32m      4\u001b[0m   \u001b[0mprint\u001b[0m\u001b[0;34m(\u001b[0m\u001b[0;34m'after'\u001b[0m\u001b[0;34m)\u001b[0m\u001b[0;34m\u001b[0m\u001b[0;34m\u001b[0m\u001b[0m\n",
      "\u001b[0;31mUnboundLocalError\u001b[0m: local variable 'animal' referenced before assignment"
     ]
    }
   ],
   "source": [
    "f()"
   ]
  },
  {
   "cell_type": "code",
   "execution_count": 14,
   "id": "6f126391-902c-4270-9569-b18e5506d0c9",
   "metadata": {},
   "outputs": [],
   "source": [
    "def f():\n",
    "  \"\"\"test fonc doc\"\"\"\n",
    "  animal = 'doc'\n",
    "  print('local:', locals())\n",
    "  print(f.__name__)\n",
    "  print(f.__doc__)"
   ]
  },
  {
   "cell_type": "code",
   "execution_count": 15,
   "id": "d9e43d64-720e-46c1-823d-9c9b33cf9c2b",
   "metadata": {},
   "outputs": [
    {
     "name": "stdout",
     "output_type": "stream",
     "text": [
      "local: {'animal': 'doc'}\n",
      "f\n",
      "test fonc doc\n"
     ]
    }
   ],
   "source": [
    "f()"
   ]
  },
  {
   "cell_type": "code",
   "execution_count": 16,
   "id": "34599e87-e7c0-4d77-b767-fb60d234fd38",
   "metadata": {},
   "outputs": [
    {
     "name": "stdout",
     "output_type": "stream",
     "text": [
      "__main__\n"
     ]
    }
   ],
   "source": [
    "print(__name__)"
   ]
  },
  {
   "cell_type": "code",
   "execution_count": 17,
   "id": "ebf69e8e-6dc9-4f20-8b96-7b1f2f843c8e",
   "metadata": {},
   "outputs": [
    {
     "name": "stdout",
     "output_type": "stream",
     "text": [
      "global: {'__name__': '__main__', '__doc__': 'Automatically created module for IPython interactive environment', '__package__': None, '__loader__': None, '__spec__': None, '__builtin__': <module 'builtins' (built-in)>, '__builtins__': <module 'builtins' (built-in)>, '_ih': ['', \"animal = 'cat'\", 'print(animal)', 'def f():\\n  print(animal)', 'f()', \"def f():\\n  print(animal)\\n  animal = 'aaa'\\n  print('after')\", 'f()', \"def f():\\n  print('local:', locals())\", 'f()', \"def f():\\n  animal = 'doc'\\n  print('local:', locals())\", 'f()', 'print(__name__)', \"def f():\\n  animal = 'doc'\\n  print('local:', locals())\\n  print(f.__name__)\\n  print(f.__doc__)\", 'f()', 'def f():\\n  \"\"\"test fonc doc\"\"\"\\n  animal = \\'doc\\'\\n  print(\\'local:\\', locals())\\n  print(f.__name__)\\n  print(f.__doc__)', 'f()', 'print(__name__)', \"print('global:', globals())\"], '_oh': {}, '_dh': ['/Users/k22/Develop/Python3/python-beginner/notebook'], 'In': ['', \"animal = 'cat'\", 'print(animal)', 'def f():\\n  print(animal)', 'f()', \"def f():\\n  print(animal)\\n  animal = 'aaa'\\n  print('after')\", 'f()', \"def f():\\n  print('local:', locals())\", 'f()', \"def f():\\n  animal = 'doc'\\n  print('local:', locals())\", 'f()', 'print(__name__)', \"def f():\\n  animal = 'doc'\\n  print('local:', locals())\\n  print(f.__name__)\\n  print(f.__doc__)\", 'f()', 'def f():\\n  \"\"\"test fonc doc\"\"\"\\n  animal = \\'doc\\'\\n  print(\\'local:\\', locals())\\n  print(f.__name__)\\n  print(f.__doc__)', 'f()', 'print(__name__)', \"print('global:', globals())\"], 'Out': {}, 'get_ipython': <bound method InteractiveShell.get_ipython of <ipykernel.zmqshell.ZMQInteractiveShell object at 0x106035550>>, 'exit': <IPython.core.autocall.ZMQExitAutocall object at 0x10606e700>, 'quit': <IPython.core.autocall.ZMQExitAutocall object at 0x10606e700>, '_': '', '__': '', '___': '', '_i': 'print(__name__)', '_ii': 'f()', '_iii': 'def f():\\n  \"\"\"test fonc doc\"\"\"\\n  animal = \\'doc\\'\\n  print(\\'local:\\', locals())\\n  print(f.__name__)\\n  print(f.__doc__)', '_i1': \"animal = 'cat'\", 'animal': 'cat', '_i2': 'print(animal)', '_i3': 'def f():\\n  print(animal)', 'f': <function f at 0x1061659d0>, '_i4': 'f()', '_i5': \"def f():\\n  print(animal)\\n  animal = 'aaa'\\n  print('after')\", '_i6': 'f()', '_i7': \"def f():\\n  print('local:', locals())\", '_i8': 'f()', '_i9': \"def f():\\n  animal = 'doc'\\n  print('local:', locals())\", '_i10': 'f()', '_i11': 'print(__name__)', '_i12': \"def f():\\n  animal = 'doc'\\n  print('local:', locals())\\n  print(f.__name__)\\n  print(f.__doc__)\", '_i13': 'f()', '_i14': 'def f():\\n  \"\"\"test fonc doc\"\"\"\\n  animal = \\'doc\\'\\n  print(\\'local:\\', locals())\\n  print(f.__name__)\\n  print(f.__doc__)', '_i15': 'f()', '_i16': 'print(__name__)', '_i17': \"print('global:', globals())\"}\n"
     ]
    }
   ],
   "source": [
    "print('global:', globals())"
   ]
  },
  {
   "cell_type": "code",
   "execution_count": null,
   "id": "4aa9e318-f53b-4ea4-b7bc-d318f4a1d789",
   "metadata": {},
   "outputs": [],
   "source": []
  }
 ],
 "metadata": {
  "kernelspec": {
   "display_name": "Python 3 (ipykernel)",
   "language": "python",
   "name": "python3"
  },
  "language_info": {
   "codemirror_mode": {
    "name": "ipython",
    "version": 3
   },
   "file_extension": ".py",
   "mimetype": "text/x-python",
   "name": "python",
   "nbconvert_exporter": "python",
   "pygments_lexer": "ipython3",
   "version": "3.9.10"
  }
 },
 "nbformat": 4,
 "nbformat_minor": 5
}
