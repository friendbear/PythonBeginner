{
 "cells": [
  {
   "cell_type": "markdown",
   "id": "19928f63-852d-48b9-9b55-9e969d0170b2",
   "metadata": {},
   "source": [
    "## 独自例外の作成"
   ]
  },
  {
   "cell_type": "code",
   "execution_count": 1,
   "id": "29a744bd-7d18-4965-85d0-36a49609b0bf",
   "metadata": {},
   "outputs": [
    {
     "ename": "IndexError",
     "evalue": "",
     "output_type": "error",
     "traceback": [
      "\u001b[0;31m---------------------------------------------------------------------------\u001b[0m",
      "\u001b[0;31mIndexError\u001b[0m                                Traceback (most recent call last)",
      "\u001b[0;32m/var/folders/cw/mfjkzkvx0vl4qt1c_k0skyth0000gn/T/ipykernel_3812/2264240078.py\u001b[0m in \u001b[0;36m<module>\u001b[0;34m\u001b[0m\n\u001b[0;32m----> 1\u001b[0;31m \u001b[0;32mraise\u001b[0m \u001b[0mIndexError\u001b[0m\u001b[0;34m(\u001b[0m\u001b[0;34m)\u001b[0m\u001b[0;34m\u001b[0m\u001b[0;34m\u001b[0m\u001b[0m\n\u001b[0m",
      "\u001b[0;31mIndexError\u001b[0m: "
     ]
    }
   ],
   "source": [
    "raise IndexError()"
   ]
  },
  {
   "cell_type": "code",
   "execution_count": 2,
   "id": "c56ad3cd-2621-4695-b15f-28aedf2d8bc6",
   "metadata": {},
   "outputs": [],
   "source": [
    "class UppsercaseError(Exception):\n",
    "  pass"
   ]
  },
  {
   "cell_type": "code",
   "execution_count": 5,
   "id": "c036fa54-fdaf-49d7-bff5-239a5d816f50",
   "metadata": {},
   "outputs": [],
   "source": [
    "def check():\n",
    "  words = ['APPLE', 'orange', 'banana']\n",
    "  for word in words:\n",
    "    if word.isupper():\n",
    "      raise UppsercaseError(word)\n",
    "      "
   ]
  },
  {
   "cell_type": "code",
   "execution_count": 6,
   "id": "7345c017-556c-40bc-8c51-12d58eeab91a",
   "metadata": {},
   "outputs": [
    {
     "ename": "UppsercaseError",
     "evalue": "APPLE",
     "output_type": "error",
     "traceback": [
      "\u001b[0;31m---------------------------------------------------------------------------\u001b[0m",
      "\u001b[0;31mUppsercaseError\u001b[0m                           Traceback (most recent call last)",
      "\u001b[0;32m/var/folders/cw/mfjkzkvx0vl4qt1c_k0skyth0000gn/T/ipykernel_3812/4218309605.py\u001b[0m in \u001b[0;36m<module>\u001b[0;34m\u001b[0m\n\u001b[0;32m----> 1\u001b[0;31m \u001b[0mcheck\u001b[0m\u001b[0;34m(\u001b[0m\u001b[0;34m)\u001b[0m\u001b[0;34m\u001b[0m\u001b[0;34m\u001b[0m\u001b[0m\n\u001b[0m",
      "\u001b[0;32m/var/folders/cw/mfjkzkvx0vl4qt1c_k0skyth0000gn/T/ipykernel_3812/1896135720.py\u001b[0m in \u001b[0;36mcheck\u001b[0;34m()\u001b[0m\n\u001b[1;32m      3\u001b[0m   \u001b[0;32mfor\u001b[0m \u001b[0mword\u001b[0m \u001b[0;32min\u001b[0m \u001b[0mwords\u001b[0m\u001b[0;34m:\u001b[0m\u001b[0;34m\u001b[0m\u001b[0;34m\u001b[0m\u001b[0m\n\u001b[1;32m      4\u001b[0m     \u001b[0;32mif\u001b[0m \u001b[0mword\u001b[0m\u001b[0;34m.\u001b[0m\u001b[0misupper\u001b[0m\u001b[0;34m(\u001b[0m\u001b[0;34m)\u001b[0m\u001b[0;34m:\u001b[0m\u001b[0;34m\u001b[0m\u001b[0;34m\u001b[0m\u001b[0m\n\u001b[0;32m----> 5\u001b[0;31m       \u001b[0;32mraise\u001b[0m \u001b[0mUppsercaseError\u001b[0m\u001b[0;34m(\u001b[0m\u001b[0mword\u001b[0m\u001b[0;34m)\u001b[0m\u001b[0;34m\u001b[0m\u001b[0;34m\u001b[0m\u001b[0m\n\u001b[0m\u001b[1;32m      6\u001b[0m \u001b[0;34m\u001b[0m\u001b[0m\n",
      "\u001b[0;31mUppsercaseError\u001b[0m: APPLE"
     ]
    }
   ],
   "source": [
    "check()"
   ]
  },
  {
   "cell_type": "code",
   "execution_count": 8,
   "id": "6b838c5a-dce7-4be7-b847-520b305d7372",
   "metadata": {},
   "outputs": [
    {
     "name": "stdout",
     "output_type": "stream",
     "text": [
      "This is my fault, Go next\n"
     ]
    }
   ],
   "source": [
    "try:\n",
    "  check()\n",
    "except UppsercaseError as e:\n",
    "  print('This is my fault, Go next')"
   ]
  },
  {
   "cell_type": "code",
   "execution_count": null,
   "id": "51ca02fb-1825-4053-9290-22a1db29af73",
   "metadata": {},
   "outputs": [],
   "source": []
  }
 ],
 "metadata": {
  "kernelspec": {
   "display_name": "Python 3 (ipykernel)",
   "language": "python",
   "name": "python3"
  },
  "language_info": {
   "codemirror_mode": {
    "name": "ipython",
    "version": 3
   },
   "file_extension": ".py",
   "mimetype": "text/x-python",
   "name": "python",
   "nbconvert_exporter": "python",
   "pygments_lexer": "ipython3",
   "version": "3.9.10"
  }
 },
 "nbformat": 4,
 "nbformat_minor": 5
}
