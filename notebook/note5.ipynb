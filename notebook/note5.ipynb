{
 "cells": [
  {
   "cell_type": "markdown",
   "id": "e89952d1-71f5-48a2-b5c7-a55c6d0a72fc",
   "metadata": {},
   "source": [
    "## 集合内包表記"
   ]
  },
  {
   "cell_type": "code",
   "execution_count": 1,
   "id": "e9448e13-3162-4954-afb0-35741c0b2a63",
   "metadata": {},
   "outputs": [
    {
     "name": "stdout",
     "output_type": "stream",
     "text": [
      "{0, 1, 2, 3, 4, 5, 6, 7, 8, 9}\n"
     ]
    }
   ],
   "source": [
    "s = set()\n",
    "\n",
    "for i in range(10):\n",
    "  s.add(i)\n",
    "  \n",
    "print(s)"
   ]
  },
  {
   "cell_type": "code",
   "execution_count": 8,
   "id": "8d02fb96-6dc1-41a7-aae9-37b503935f50",
   "metadata": {},
   "outputs": [],
   "source": [
    "s2 = set()\n",
    "s2 = {i for i in range(20)}"
   ]
  },
  {
   "cell_type": "code",
   "execution_count": 9,
   "id": "81bd4c8e-301e-4f1a-96ab-185d7ead0716",
   "metadata": {},
   "outputs": [
    {
     "name": "stdout",
     "output_type": "stream",
     "text": [
      "{0, 1, 2, 3, 4, 5, 6, 7, 8, 9, 10, 11, 12, 13, 14, 15, 16, 17, 18, 19}\n"
     ]
    }
   ],
   "source": [
    "print(s2)"
   ]
  },
  {
   "cell_type": "code",
   "execution_count": null,
   "id": "a2d328ff-e550-4a24-9a37-52ad97553893",
   "metadata": {},
   "outputs": [],
   "source": []
  }
 ],
 "metadata": {
  "kernelspec": {
   "display_name": "Python 3 (ipykernel)",
   "language": "python",
   "name": "python3"
  },
  "language_info": {
   "codemirror_mode": {
    "name": "ipython",
    "version": 3
   },
   "file_extension": ".py",
   "mimetype": "text/x-python",
   "name": "python",
   "nbconvert_exporter": "python",
   "pygments_lexer": "ipython3",
   "version": "3.9.10"
  }
 },
 "nbformat": 4,
 "nbformat_minor": 5
}
