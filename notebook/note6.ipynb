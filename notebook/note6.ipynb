{
 "cells": [
  {
   "cell_type": "markdown",
   "id": "60b97c9e-3020-4cb7-9087-31a8b5746de1",
   "metadata": {},
   "source": [
    "## ジェネレーター内包表記"
   ]
  },
  {
   "cell_type": "code",
   "execution_count": 1,
   "id": "45e9ab4d-4e70-4bbf-b5f5-e608524f9582",
   "metadata": {},
   "outputs": [],
   "source": [
    "def g():\n",
    "  for i in range(10):\n",
    "    yield i"
   ]
  },
  {
   "cell_type": "code",
   "execution_count": 2,
   "id": "2c922da5-75f6-4742-ada1-1d2a3e6191fa",
   "metadata": {},
   "outputs": [
    {
     "name": "stdout",
     "output_type": "stream",
     "text": [
      "<class 'generator'>\n"
     ]
    }
   ],
   "source": [
    "g = g()\n",
    "print(type(g))"
   ]
  },
  {
   "cell_type": "code",
   "execution_count": 12,
   "id": "b600f23c-668a-4a46-b1f5-ce3548435b50",
   "metadata": {},
   "outputs": [],
   "source": [
    "g = (i for i in range(10))\n"
   ]
  },
  {
   "cell_type": "code",
   "execution_count": 14,
   "id": "3d468e92-8951-481d-8320-c38344600713",
   "metadata": {},
   "outputs": [
    {
     "name": "stdout",
     "output_type": "stream",
     "text": [
      "<class 'generator'>\n",
      "1\n",
      "2\n"
     ]
    }
   ],
   "source": [
    "print(type(g))\n",
    "print(next(g))\n",
    "print(next(g))"
   ]
  },
  {
   "cell_type": "code",
   "execution_count": 10,
   "id": "e730f58d-9c69-4550-aa0b-1c59fcdca8b9",
   "metadata": {},
   "outputs": [],
   "source": [
    "# tupleにする場合は明示的にtupleをつけてやる必要がある\n",
    "\n",
    "g = tuple(i for i in range(100) if i % 2 == 0)\n"
   ]
  },
  {
   "cell_type": "code",
   "execution_count": 9,
   "id": "286abc58-7b4a-42b5-8fb5-c20cb6adbce1",
   "metadata": {},
   "outputs": [
    {
     "name": "stdout",
     "output_type": "stream",
     "text": [
      "<class 'tuple'>\n",
      "(0, 2, 4, 6, 8, 10, 12, 14, 16, 18, 20, 22, 24, 26, 28, 30, 32, 34, 36, 38, 40, 42, 44, 46, 48, 50, 52, 54, 56, 58, 60, 62, 64, 66, 68, 70, 72, 74, 76, 78, 80, 82, 84, 86, 88, 90, 92, 94, 96, 98)\n"
     ]
    }
   ],
   "source": [
    "print(type(g))\n",
    "print(g)"
   ]
  },
  {
   "cell_type": "code",
   "execution_count": null,
   "id": "6b2f1f23-ea57-4384-a4bf-ed5e7b7dc750",
   "metadata": {},
   "outputs": [],
   "source": []
  }
 ],
 "metadata": {
  "kernelspec": {
   "display_name": "Python 3 (ipykernel)",
   "language": "python",
   "name": "python3"
  },
  "language_info": {
   "codemirror_mode": {
    "name": "ipython",
    "version": 3
   },
   "file_extension": ".py",
   "mimetype": "text/x-python",
   "name": "python",
   "nbconvert_exporter": "python",
   "pygments_lexer": "ipython3",
   "version": "3.9.10"
  }
 },
 "nbformat": 4,
 "nbformat_minor": 5
}
